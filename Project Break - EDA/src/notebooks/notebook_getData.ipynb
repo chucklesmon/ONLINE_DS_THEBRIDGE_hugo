{
 "cells": [
  {
   "cell_type": "code",
   "execution_count": null,
   "id": "db389665",
   "metadata": {},
   "outputs": [],
   "source": [
    "from utils import funciones_eda as f, variables as v\n",
    "import pandas as pd"
   ]
  },
  {
   "cell_type": "code",
   "execution_count": null,
   "id": "1285a6c6",
   "metadata": {},
   "outputs": [],
   "source": [
    "# Genero las URL de donde se van a sacar los datos\n",
    "url_page1 = v.BASE_URL + v.PAGE1_URL\n",
    "url_page2 = v.BASE_URL + v.PAGE2_URL\n",
    "\n",
    "\n",
    "# Creo 2 DataFrames, uno por URL\n",
    "df_page1 = pd.DataFrame(f.tournaments(url_page1))\n",
    "df_page2 = pd.DataFrame(f.tournaments(url_page2))\n",
    "\n",
    "# Creo un único DataFrame uniendo los de cada URL\n",
    "df_pocket = pd.concat([df_page1, df_page2], ignore_index = True)\n",
    "\n",
    "# Guardo el DF en un archivo CSV\n",
    "df_pocket.to_csv('../data/tournament_data.csv', index=False)\n"
   ]
  }
 ],
 "metadata": {
  "kernelspec": {
   "display_name": "Python 3",
   "language": "python",
   "name": "python3"
  },
  "language_info": {
   "codemirror_mode": {
    "name": "ipython",
    "version": 3
   },
   "file_extension": ".py",
   "mimetype": "text/x-python",
   "name": "python",
   "nbconvert_exporter": "python",
   "pygments_lexer": "ipython3",
   "version": "3.10.11"
  }
 },
 "nbformat": 4,
 "nbformat_minor": 5
}
